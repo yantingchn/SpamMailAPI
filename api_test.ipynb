{
 "cells": [
  {
   "cell_type": "markdown",
   "metadata": {},
   "source": [
    "# Test API"
   ]
  },
  {
   "cell_type": "code",
   "execution_count": 1,
   "metadata": {},
   "outputs": [
    {
     "name": "stderr",
     "output_type": "stream",
     "text": [
      "[nltk_data] Downloading package stopwords to\n",
      "[nltk_data]     /Users/yantingchn/nltk_data...\n",
      "[nltk_data]   Package stopwords is already up-to-date!\n"
     ]
    }
   ],
   "source": [
    "import requests\n",
    "from utility import load_config"
   ]
  },
  {
   "cell_type": "code",
   "execution_count": 3,
   "metadata": {},
   "outputs": [
    {
     "name": "stdout",
     "output_type": "stream",
     "text": [
      "This email is ['ham']\n"
     ]
    }
   ],
   "source": [
    "# Define the URL of the API endpoint\n",
    "url = load_config().url['fastapi_url']\n",
    "\n",
    "# Define the SMS message\n",
    "message = \"Your free ringtone is waiting to be collected. Simply text the password \\\"MIX\\\" to 85069 to verify. Get Usher and Britney. FML\"\n",
    "# message = \"Great to talk with you.\"\n",
    "\n",
    "# Define the data to be sent to the API\n",
    "data = {\"message\": message}\n",
    "\n",
    "# Send the POST request\n",
    "response = requests.post(url, json=data)\n",
    "\n",
    "# Print the response\n",
    "try:\n",
    "    decoded_text = response.json()\n",
    "    print(\"This email is\", decoded_text['prediction'])\n",
    "except:\n",
    "    print(\"Error code:\", response.status_code)"
   ]
  },
  {
   "cell_type": "code",
   "execution_count": null,
   "metadata": {},
   "outputs": [],
   "source": []
  }
 ],
 "metadata": {
  "kernelspec": {
   "display_name": "zilo",
   "language": "python",
   "name": "python3"
  },
  "language_info": {
   "codemirror_mode": {
    "name": "ipython",
    "version": 3
   },
   "file_extension": ".py",
   "mimetype": "text/x-python",
   "name": "python",
   "nbconvert_exporter": "python",
   "pygments_lexer": "ipython3",
   "version": "3.8.18"
  }
 },
 "nbformat": 4,
 "nbformat_minor": 2
}
