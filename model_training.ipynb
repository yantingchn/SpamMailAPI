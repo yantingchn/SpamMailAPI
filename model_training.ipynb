{
 "cells": [
  {
   "cell_type": "markdown",
   "metadata": {},
   "source": [
    "# Spam Check Model\n",
    "## Import Libraries"
   ]
  },
  {
   "cell_type": "code",
   "execution_count": 1,
   "metadata": {},
   "outputs": [
    {
     "name": "stderr",
     "output_type": "stream",
     "text": [
      "[nltk_data] Downloading package stopwords to\n",
      "[nltk_data]     /Users/yantingchn/nltk_data...\n",
      "[nltk_data]   Package stopwords is already up-to-date!\n"
     ]
    }
   ],
   "source": [
    "from sklearn.model_selection import train_test_split\n",
    "from sklearn.naive_bayes import MultinomialNB\n",
    "from sklearn.feature_extraction.text import TfidfVectorizer, CountVectorizer\n",
    "from model import Modelling\n",
    "from utility import (\n",
    "    DataPreprocessing,\n",
    "    Visualisation, \n",
    "    Loader,\n",
    ")\n",
    "\n",
    "# !pip install mlflow\n",
    "import mlflow\n",
    "from mlflow.models import infer_signature"
   ]
  },
  {
   "cell_type": "markdown",
   "metadata": {},
   "source": [
    "## Import Data & Data Analysis\n",
    "Source: https://www.kaggle.com/datasets/venky73/spam-mails-dataset"
   ]
  },
  {
   "cell_type": "code",
   "execution_count": 2,
   "metadata": {},
   "outputs": [
    {
     "data": {
      "text/html": [
       "<div>\n",
       "<style scoped>\n",
       "    .dataframe tbody tr th:only-of-type {\n",
       "        vertical-align: middle;\n",
       "    }\n",
       "\n",
       "    .dataframe tbody tr th {\n",
       "        vertical-align: top;\n",
       "    }\n",
       "\n",
       "    .dataframe thead th {\n",
       "        text-align: right;\n",
       "    }\n",
       "</style>\n",
       "<table border=\"1\" class=\"dataframe\">\n",
       "  <thead>\n",
       "    <tr style=\"text-align: right;\">\n",
       "      <th></th>\n",
       "      <th>Unnamed: 0</th>\n",
       "      <th>label</th>\n",
       "      <th>text</th>\n",
       "      <th>label_num</th>\n",
       "    </tr>\n",
       "  </thead>\n",
       "  <tbody>\n",
       "    <tr>\n",
       "      <th>0</th>\n",
       "      <td>605</td>\n",
       "      <td>ham</td>\n",
       "      <td>Subject: enron methanol ; meter # : 988291\\r\\n...</td>\n",
       "      <td>0</td>\n",
       "    </tr>\n",
       "    <tr>\n",
       "      <th>1</th>\n",
       "      <td>2349</td>\n",
       "      <td>ham</td>\n",
       "      <td>Subject: hpl nom for january 9 , 2001\\r\\n( see...</td>\n",
       "      <td>0</td>\n",
       "    </tr>\n",
       "    <tr>\n",
       "      <th>2</th>\n",
       "      <td>3624</td>\n",
       "      <td>ham</td>\n",
       "      <td>Subject: neon retreat\\r\\nho ho ho , we ' re ar...</td>\n",
       "      <td>0</td>\n",
       "    </tr>\n",
       "    <tr>\n",
       "      <th>3</th>\n",
       "      <td>4685</td>\n",
       "      <td>spam</td>\n",
       "      <td>Subject: photoshop , windows , office . cheap ...</td>\n",
       "      <td>1</td>\n",
       "    </tr>\n",
       "    <tr>\n",
       "      <th>4</th>\n",
       "      <td>2030</td>\n",
       "      <td>ham</td>\n",
       "      <td>Subject: re : indian springs\\r\\nthis deal is t...</td>\n",
       "      <td>0</td>\n",
       "    </tr>\n",
       "  </tbody>\n",
       "</table>\n",
       "</div>"
      ],
      "text/plain": [
       "   Unnamed: 0 label                                               text  \\\n",
       "0         605   ham  Subject: enron methanol ; meter # : 988291\\r\\n...   \n",
       "1        2349   ham  Subject: hpl nom for january 9 , 2001\\r\\n( see...   \n",
       "2        3624   ham  Subject: neon retreat\\r\\nho ho ho , we ' re ar...   \n",
       "3        4685  spam  Subject: photoshop , windows , office . cheap ...   \n",
       "4        2030   ham  Subject: re : indian springs\\r\\nthis deal is t...   \n",
       "\n",
       "   label_num  \n",
       "0          0  \n",
       "1          0  \n",
       "2          0  \n",
       "3          1  \n",
       "4          0  "
      ]
     },
     "execution_count": 2,
     "metadata": {},
     "output_type": "execute_result"
    }
   ],
   "source": [
    "loader = Loader()\n",
    "df = loader.load_df()\n",
    "df.head()"
   ]
  },
  {
   "cell_type": "code",
   "execution_count": 3,
   "metadata": {},
   "outputs": [
    {
     "name": "stdout",
     "output_type": "stream",
     "text": [
      "ham     3672\n",
      "spam    1499\n",
      "Name: label, dtype: int64\n"
     ]
    },
    {
     "data": {
      "image/png": "[encoded data removed]",
      "text/plain": [
       "<Figure size 640x480 with 1 Axes>"
      ]
     },
     "metadata": {},
     "output_type": "display_data"
    }
   ],
   "source": [
    "visualiser = Visualisation()\n",
    "visualiser.ClaimCountBarChart(df, 'label')\n",
    "print(df['label'].value_counts())"
   ]
  },
  {
   "cell_type": "code",
   "execution_count": 4,
   "metadata": {},
   "outputs": [
    {
     "name": "stdout",
     "output_type": "stream",
     "text": [
      "Average SMS length: 228\n",
      "Unique word count 50483\n"
     ]
    }
   ],
   "source": [
    "avg_sms_len=round(sum([len(i.split()) for i in df['text']])/len(df['text']))\n",
    "\n",
    "s = set()\n",
    "for sent in df['text']:\n",
    "  for word in DataPreprocessing().tokenization(sent):\n",
    "    s.add(word)\n",
    "Unique_wd_cnt =len(s)\n",
    "\n",
    "print('Average SMS length:', avg_sms_len)\n",
    "print('Unique word count', Unique_wd_cnt)"
   ]
  },
  {
   "cell_type": "markdown",
   "metadata": {},
   "source": [
    "## Model Training\n",
    "Model traing with pycaret and model register with MLFlow."
   ]
  },
  {
   "cell_type": "code",
   "execution_count": 5,
   "metadata": {},
   "outputs": [],
   "source": [
    "X, y = df['text'], df['label'].to_numpy()"
   ]
  },
  {
   "cell_type": "markdown",
   "metadata": {},
   "source": [
    "### Vectorizer\n",
    "Initialize vectorizer (**CountVectorizer**)"
   ]
  },
  {
   "cell_type": "code",
   "execution_count": 6,
   "metadata": {},
   "outputs": [
    {
     "name": "stderr",
     "output_type": "stream",
     "text": [
      "/Users/yantingchn/opt/miniconda3/envs/zilo/lib/python3.8/site-packages/sklearn/feature_extraction/text.py:528: UserWarning: The parameter 'token_pattern' will not be used since 'tokenizer' is not None'\n",
      "  warnings.warn(\n"
     ]
    }
   ],
   "source": [
    "X_train, X_test, y_train, y_test = train_test_split(X, y, test_size=0.3, random_state=30)\n",
    "\n",
    "# initialize data preprocessing\n",
    "preprocessor = DataPreprocessing()\n",
    "\n",
    "# # initialize vectorizer\n",
    "vect = CountVectorizer(tokenizer=preprocessor.tokenization, stop_words=preprocessor.stop_words)\n",
    "# vect = TfidfVectorizer(tokenizer=preprocessor.tokenization_nltk, stop_words=preprocessor.stop_words)\n",
    "\n",
    "vect.fit(X_train)\n",
    "\n",
    "pipeline = Modelling()"
   ]
  },
  {
   "cell_type": "markdown",
   "metadata": {},
   "source": [
    "### Setup\n",
    "Initializes the training environment and creates the transformation pipeline."
   ]
  },
  {
   "cell_type": "code",
   "execution_count": 7,
   "metadata": {},
   "outputs": [
    {
     "data": {
      "text/html": [
       "<style type=\"text/css\">\n",
       "#T_e50a9_row8_col1 {\n",
       "  background-color: lightgreen;\n",
       "}\n",
       "</style>\n",
       "<table id=\"T_e50a9\">\n",
       "  <thead>\n",
       "    <tr>\n",
       "      <th class=\"blank level0\" >&nbsp;</th>\n",
       "      <th id=\"T_e50a9_level0_col0\" class=\"col_heading level0 col0\" >Description</th>\n",
       "      <th id=\"T_e50a9_level0_col1\" class=\"col_heading level0 col1\" >Value</th>\n",
       "    </tr>\n",
       "  </thead>\n",
       "  <tbody>\n",
       "    <tr>\n",
       "      <th id=\"T_e50a9_level0_row0\" class=\"row_heading level0 row0\" >0</th>\n",
       "      <td id=\"T_e50a9_row0_col0\" class=\"data row0 col0\" >Session id</td>\n",
       "      <td id=\"T_e50a9_row0_col1\" class=\"data row0 col1\" >123</td>\n",
       "    </tr>\n",
       "    <tr>\n",
       "      <th id=\"T_e50a9_level0_row1\" class=\"row_heading level0 row1\" >1</th>\n",
       "      <td id=\"T_e50a9_row1_col0\" class=\"data row1 col0\" >Target</td>\n",
       "      <td id=\"T_e50a9_row1_col1\" class=\"data row1 col1\" >target</td>\n",
       "    </tr>\n",
       "    <tr>\n",
       "      <th id=\"T_e50a9_level0_row2\" class=\"row_heading level0 row2\" >2</th>\n",
       "      <td id=\"T_e50a9_row2_col0\" class=\"data row2 col0\" >Target type</td>\n",
       "      <td id=\"T_e50a9_row2_col1\" class=\"data row2 col1\" >Binary</td>\n",
       "    </tr>\n",
       "    <tr>\n",
       "      <th id=\"T_e50a9_level0_row3\" class=\"row_heading level0 row3\" >3</th>\n",
       "      <td id=\"T_e50a9_row3_col0\" class=\"data row3 col0\" >Original data shape</td>\n",
       "      <td id=\"T_e50a9_row3_col1\" class=\"data row3 col1\" >(4136, 37782)</td>\n",
       "    </tr>\n",
       "    <tr>\n",
       "      <th id=\"T_e50a9_level0_row4\" class=\"row_heading level0 row4\" >4</th>\n",
       "      <td id=\"T_e50a9_row4_col0\" class=\"data row4 col0\" >Transformed data shape</td>\n",
       "      <td id=\"T_e50a9_row4_col1\" class=\"data row4 col1\" >(4136, 37782)</td>\n",
       "    </tr>\n",
       "    <tr>\n",
       "      <th id=\"T_e50a9_level0_row5\" class=\"row_heading level0 row5\" >5</th>\n",
       "      <td id=\"T_e50a9_row5_col0\" class=\"data row5 col0\" >Transformed train set shape</td>\n",
       "      <td id=\"T_e50a9_row5_col1\" class=\"data row5 col1\" >(2895, 37782)</td>\n",
       "    </tr>\n",
       "    <tr>\n",
       "      <th id=\"T_e50a9_level0_row6\" class=\"row_heading level0 row6\" >6</th>\n",
       "      <td id=\"T_e50a9_row6_col0\" class=\"data row6 col0\" >Transformed test set shape</td>\n",
       "      <td id=\"T_e50a9_row6_col1\" class=\"data row6 col1\" >(1241, 37782)</td>\n",
       "    </tr>\n",
       "    <tr>\n",
       "      <th id=\"T_e50a9_level0_row7\" class=\"row_heading level0 row7\" >7</th>\n",
       "      <td id=\"T_e50a9_row7_col0\" class=\"data row7 col0\" >Numeric features</td>\n",
       "      <td id=\"T_e50a9_row7_col1\" class=\"data row7 col1\" >37781</td>\n",
       "    </tr>\n",
       "    <tr>\n",
       "      <th id=\"T_e50a9_level0_row8\" class=\"row_heading level0 row8\" >8</th>\n",
       "      <td id=\"T_e50a9_row8_col0\" class=\"data row8 col0\" >Preprocess</td>\n",
       "      <td id=\"T_e50a9_row8_col1\" class=\"data row8 col1\" >True</td>\n",
       "    </tr>\n",
       "    <tr>\n",
       "      <th id=\"T_e50a9_level0_row9\" class=\"row_heading level0 row9\" >9</th>\n",
       "      <td id=\"T_e50a9_row9_col0\" class=\"data row9 col0\" >Imputation type</td>\n",
       "      <td id=\"T_e50a9_row9_col1\" class=\"data row9 col1\" >simple</td>\n",
       "    </tr>\n",
       "    <tr>\n",
       "      <th id=\"T_e50a9_level0_row10\" class=\"row_heading level0 row10\" >10</th>\n",
       "      <td id=\"T_e50a9_row10_col0\" class=\"data row10 col0\" >Numeric imputation</td>\n",
       "      <td id=\"T_e50a9_row10_col1\" class=\"data row10 col1\" >mean</td>\n",
       "    </tr>\n",
       "    <tr>\n",
       "      <th id=\"T_e50a9_level0_row11\" class=\"row_heading level0 row11\" >11</th>\n",
       "      <td id=\"T_e50a9_row11_col0\" class=\"data row11 col0\" >Categorical imputation</td>\n",
       "      <td id=\"T_e50a9_row11_col1\" class=\"data row11 col1\" >mode</td>\n",
       "    </tr>\n",
       "    <tr>\n",
       "      <th id=\"T_e50a9_level0_row12\" class=\"row_heading level0 row12\" >12</th>\n",
       "      <td id=\"T_e50a9_row12_col0\" class=\"data row12 col0\" >Fold Generator</td>\n",
       "      <td id=\"T_e50a9_row12_col1\" class=\"data row12 col1\" >StratifiedKFold</td>\n",
       "    </tr>\n",
       "    <tr>\n",
       "      <th id=\"T_e50a9_level0_row13\" class=\"row_heading level0 row13\" >13</th>\n",
       "      <td id=\"T_e50a9_row13_col0\" class=\"data row13 col0\" >Fold Number</td>\n",
       "      <td id=\"T_e50a9_row13_col1\" class=\"data row13 col1\" >3</td>\n",
       "    </tr>\n",
       "    <tr>\n",
       "      <th id=\"T_e50a9_level0_row14\" class=\"row_heading level0 row14\" >14</th>\n",
       "      <td id=\"T_e50a9_row14_col0\" class=\"data row14 col0\" >CPU Jobs</td>\n",
       "      <td id=\"T_e50a9_row14_col1\" class=\"data row14 col1\" >-1</td>\n",
       "    </tr>\n",
       "    <tr>\n",
       "      <th id=\"T_e50a9_level0_row15\" class=\"row_heading level0 row15\" >15</th>\n",
       "      <td id=\"T_e50a9_row15_col0\" class=\"data row15 col0\" >Use GPU</td>\n",
       "      <td id=\"T_e50a9_row15_col1\" class=\"data row15 col1\" >False</td>\n",
       "    </tr>\n",
       "    <tr>\n",
       "      <th id=\"T_e50a9_level0_row16\" class=\"row_heading level0 row16\" >16</th>\n",
       "      <td id=\"T_e50a9_row16_col0\" class=\"data row16 col0\" >Log Experiment</td>\n",
       "      <td id=\"T_e50a9_row16_col1\" class=\"data row16 col1\" >False</td>\n",
       "    </tr>\n",
       "    <tr>\n",
       "      <th id=\"T_e50a9_level0_row17\" class=\"row_heading level0 row17\" >17</th>\n",
       "      <td id=\"T_e50a9_row17_col0\" class=\"data row17 col0\" >Experiment Name</td>\n",
       "      <td id=\"T_e50a9_row17_col1\" class=\"data row17 col1\" >clf-default-name</td>\n",
       "    </tr>\n",
       "    <tr>\n",
       "      <th id=\"T_e50a9_level0_row18\" class=\"row_heading level0 row18\" >18</th>\n",
       "      <td id=\"T_e50a9_row18_col0\" class=\"data row18 col0\" >USI</td>\n",
       "      <td id=\"T_e50a9_row18_col1\" class=\"data row18 col1\" >dd49</td>\n",
       "    </tr>\n",
       "  </tbody>\n",
       "</table>\n"
      ],
      "text/plain": [
       "<pandas.io.formats.style.Styler at 0x28bf51400>"
      ]
     },
     "metadata": {},
     "output_type": "display_data"
    }
   ],
   "source": [
    "from pycaret.classification import *\n",
    "\n",
    "s = setup(data = vect.transform(X), target = pipeline.le.transform(y), session_id = 123, fold = 3)"
   ]
  },
  {
   "cell_type": "code",
   "execution_count": 8,
   "metadata": {},
   "outputs": [
    {
     "data": {
      "text/html": [
       "<style type=\"text/css\">\n",
       "#T_fe12d_row8_col1 {\n",
       "  background-color: lightgreen;\n",
       "}\n",
       "</style>\n",
       "<table id=\"T_fe12d\">\n",
       "  <thead>\n",
       "    <tr>\n",
       "      <th class=\"blank level0\" >&nbsp;</th>\n",
       "      <th id=\"T_fe12d_level0_col0\" class=\"col_heading level0 col0\" >Description</th>\n",
       "      <th id=\"T_fe12d_level0_col1\" class=\"col_heading level0 col1\" >Value</th>\n",
       "    </tr>\n",
       "  </thead>\n",
       "  <tbody>\n",
       "    <tr>\n",
       "      <th id=\"T_fe12d_level0_row0\" class=\"row_heading level0 row0\" >0</th>\n",
       "      <td id=\"T_fe12d_row0_col0\" class=\"data row0 col0\" >Session id</td>\n",
       "      <td id=\"T_fe12d_row0_col1\" class=\"data row0 col1\" >123</td>\n",
       "    </tr>\n",
       "    <tr>\n",
       "      <th id=\"T_fe12d_level0_row1\" class=\"row_heading level0 row1\" >1</th>\n",
       "      <td id=\"T_fe12d_row1_col0\" class=\"data row1 col0\" >Target</td>\n",
       "      <td id=\"T_fe12d_row1_col1\" class=\"data row1 col1\" >target</td>\n",
       "    </tr>\n",
       "    <tr>\n",
       "      <th id=\"T_fe12d_level0_row2\" class=\"row_heading level0 row2\" >2</th>\n",
       "      <td id=\"T_fe12d_row2_col0\" class=\"data row2 col0\" >Target type</td>\n",
       "      <td id=\"T_fe12d_row2_col1\" class=\"data row2 col1\" >Binary</td>\n",
       "    </tr>\n",
       "    <tr>\n",
       "      <th id=\"T_fe12d_level0_row3\" class=\"row_heading level0 row3\" >3</th>\n",
       "      <td id=\"T_fe12d_row3_col0\" class=\"data row3 col0\" >Original data shape</td>\n",
       "      <td id=\"T_fe12d_row3_col1\" class=\"data row3 col1\" >(4136, 37782)</td>\n",
       "    </tr>\n",
       "    <tr>\n",
       "      <th id=\"T_fe12d_level0_row4\" class=\"row_heading level0 row4\" >4</th>\n",
       "      <td id=\"T_fe12d_row4_col0\" class=\"data row4 col0\" >Transformed data shape</td>\n",
       "      <td id=\"T_fe12d_row4_col1\" class=\"data row4 col1\" >(4136, 37782)</td>\n",
       "    </tr>\n",
       "    <tr>\n",
       "      <th id=\"T_fe12d_level0_row5\" class=\"row_heading level0 row5\" >5</th>\n",
       "      <td id=\"T_fe12d_row5_col0\" class=\"data row5 col0\" >Transformed train set shape</td>\n",
       "      <td id=\"T_fe12d_row5_col1\" class=\"data row5 col1\" >(2895, 37782)</td>\n",
       "    </tr>\n",
       "    <tr>\n",
       "      <th id=\"T_fe12d_level0_row6\" class=\"row_heading level0 row6\" >6</th>\n",
       "      <td id=\"T_fe12d_row6_col0\" class=\"data row6 col0\" >Transformed test set shape</td>\n",
       "      <td id=\"T_fe12d_row6_col1\" class=\"data row6 col1\" >(1241, 37782)</td>\n",
       "    </tr>\n",
       "    <tr>\n",
       "      <th id=\"T_fe12d_level0_row7\" class=\"row_heading level0 row7\" >7</th>\n",
       "      <td id=\"T_fe12d_row7_col0\" class=\"data row7 col0\" >Numeric features</td>\n",
       "      <td id=\"T_fe12d_row7_col1\" class=\"data row7 col1\" >37781</td>\n",
       "    </tr>\n",
       "    <tr>\n",
       "      <th id=\"T_fe12d_level0_row8\" class=\"row_heading level0 row8\" >8</th>\n",
       "      <td id=\"T_fe12d_row8_col0\" class=\"data row8 col0\" >Preprocess</td>\n",
       "      <td id=\"T_fe12d_row8_col1\" class=\"data row8 col1\" >True</td>\n",
       "    </tr>\n",
       "    <tr>\n",
       "      <th id=\"T_fe12d_level0_row9\" class=\"row_heading level0 row9\" >9</th>\n",
       "      <td id=\"T_fe12d_row9_col0\" class=\"data row9 col0\" >Imputation type</td>\n",
       "      <td id=\"T_fe12d_row9_col1\" class=\"data row9 col1\" >simple</td>\n",
       "    </tr>\n",
       "    <tr>\n",
       "      <th id=\"T_fe12d_level0_row10\" class=\"row_heading level0 row10\" >10</th>\n",
       "      <td id=\"T_fe12d_row10_col0\" class=\"data row10 col0\" >Numeric imputation</td>\n",
       "      <td id=\"T_fe12d_row10_col1\" class=\"data row10 col1\" >mean</td>\n",
       "    </tr>\n",
       "    <tr>\n",
       "      <th id=\"T_fe12d_level0_row11\" class=\"row_heading level0 row11\" >11</th>\n",
       "      <td id=\"T_fe12d_row11_col0\" class=\"data row11 col0\" >Categorical imputation</td>\n",
       "      <td id=\"T_fe12d_row11_col1\" class=\"data row11 col1\" >mode</td>\n",
       "    </tr>\n",
       "    <tr>\n",
       "      <th id=\"T_fe12d_level0_row12\" class=\"row_heading level0 row12\" >12</th>\n",
       "      <td id=\"T_fe12d_row12_col0\" class=\"data row12 col0\" >Fold Generator</td>\n",
       "      <td id=\"T_fe12d_row12_col1\" class=\"data row12 col1\" >StratifiedKFold</td>\n",
       "    </tr>\n",
       "    <tr>\n",
       "      <th id=\"T_fe12d_level0_row13\" class=\"row_heading level0 row13\" >13</th>\n",
       "      <td id=\"T_fe12d_row13_col0\" class=\"data row13 col0\" >Fold Number</td>\n",
       "      <td id=\"T_fe12d_row13_col1\" class=\"data row13 col1\" >10</td>\n",
       "    </tr>\n",
       "    <tr>\n",
       "      <th id=\"T_fe12d_level0_row14\" class=\"row_heading level0 row14\" >14</th>\n",
       "      <td id=\"T_fe12d_row14_col0\" class=\"data row14 col0\" >CPU Jobs</td>\n",
       "      <td id=\"T_fe12d_row14_col1\" class=\"data row14 col1\" >-1</td>\n",
       "    </tr>\n",
       "    <tr>\n",
       "      <th id=\"T_fe12d_level0_row15\" class=\"row_heading level0 row15\" >15</th>\n",
       "      <td id=\"T_fe12d_row15_col0\" class=\"data row15 col0\" >Use GPU</td>\n",
       "      <td id=\"T_fe12d_row15_col1\" class=\"data row15 col1\" >False</td>\n",
       "    </tr>\n",
       "    <tr>\n",
       "      <th id=\"T_fe12d_level0_row16\" class=\"row_heading level0 row16\" >16</th>\n",
       "      <td id=\"T_fe12d_row16_col0\" class=\"data row16 col0\" >Log Experiment</td>\n",
       "      <td id=\"T_fe12d_row16_col1\" class=\"data row16 col1\" >False</td>\n",
       "    </tr>\n",
       "    <tr>\n",
       "      <th id=\"T_fe12d_level0_row17\" class=\"row_heading level0 row17\" >17</th>\n",
       "      <td id=\"T_fe12d_row17_col0\" class=\"data row17 col0\" >Experiment Name</td>\n",
       "      <td id=\"T_fe12d_row17_col1\" class=\"data row17 col1\" >clf-default-name</td>\n",
       "    </tr>\n",
       "    <tr>\n",
       "      <th id=\"T_fe12d_level0_row18\" class=\"row_heading level0 row18\" >18</th>\n",
       "      <td id=\"T_fe12d_row18_col0\" class=\"data row18 col0\" >USI</td>\n",
       "      <td id=\"T_fe12d_row18_col1\" class=\"data row18 col1\" >017d</td>\n",
       "    </tr>\n",
       "  </tbody>\n",
       "</table>\n"
      ],
      "text/plain": [
       "<pandas.io.formats.style.Styler at 0x296bda550>"
      ]
     },
     "metadata": {},
     "output_type": "display_data"
    },
    {
     "data": {
      "text/plain": [
       "<pycaret.classification.oop.ClassificationExperiment at 0x2957de7c0>"
      ]
     },
     "execution_count": 8,
     "metadata": {},
     "output_type": "execute_result"
    }
   ],
   "source": [
    "from pycaret.classification import ClassificationExperiment\n",
    "# init setup on experiment\n",
    "exp = ClassificationExperiment()\n",
    "exp.setup(data=vect.transform(X), target = pipeline.le.transform(y), session_id = 123)"
   ]
  },
  {
   "cell_type": "markdown",
   "metadata": {},
   "source": [
    "### Compare Models\n",
    "Trains and evaluates the performance of selected models (`Logistic Regression`, `Random Forest`, `MultinomialNB`) using cross-validation."
   ]
  },
  {
   "cell_type": "code",
   "execution_count": 9,
   "metadata": {},
   "outputs": [
    {
     "data": {
      "text/html": [],
      "text/plain": [
       "<IPython.core.display.HTML object>"
      ]
     },
     "metadata": {},
     "output_type": "display_data"
    },
    {
     "data": {
      "text/html": [
       "<style type=\"text/css\">\n",
       "#T_9aa0d th {\n",
       "  text-align: left;\n",
       "}\n",
       "#T_9aa0d_row0_col0, #T_9aa0d_row0_col3, #T_9aa0d_row1_col0, #T_9aa0d_row1_col1, #T_9aa0d_row1_col2, #T_9aa0d_row1_col4, #T_9aa0d_row1_col5, #T_9aa0d_row1_col6, #T_9aa0d_row1_col7, #T_9aa0d_row2_col0, #T_9aa0d_row2_col1, #T_9aa0d_row2_col2, #T_9aa0d_row2_col3, #T_9aa0d_row2_col4, #T_9aa0d_row2_col5, #T_9aa0d_row2_col6, #T_9aa0d_row2_col7 {\n",
       "  text-align: left;\n",
       "}\n",
       "#T_9aa0d_row0_col1, #T_9aa0d_row0_col2, #T_9aa0d_row0_col4, #T_9aa0d_row0_col5, #T_9aa0d_row0_col6, #T_9aa0d_row0_col7, #T_9aa0d_row1_col3 {\n",
       "  text-align: left;\n",
       "  background-color: yellow;\n",
       "}\n",
       "#T_9aa0d_row0_col8, #T_9aa0d_row1_col8 {\n",
       "  text-align: left;\n",
       "  background-color: lightgrey;\n",
       "}\n",
       "#T_9aa0d_row2_col8 {\n",
       "  text-align: left;\n",
       "  background-color: yellow;\n",
       "  background-color: lightgrey;\n",
       "}\n",
       "</style>\n",
       "<table id=\"T_9aa0d\">\n",
       "  <thead>\n",
       "    <tr>\n",
       "      <th class=\"blank level0\" >&nbsp;</th>\n",
       "      <th id=\"T_9aa0d_level0_col0\" class=\"col_heading level0 col0\" >Model</th>\n",
       "      <th id=\"T_9aa0d_level0_col1\" class=\"col_heading level0 col1\" >Accuracy</th>\n",
       "      <th id=\"T_9aa0d_level0_col2\" class=\"col_heading level0 col2\" >AUC</th>\n",
       "      <th id=\"T_9aa0d_level0_col3\" class=\"col_heading level0 col3\" >Recall</th>\n",
       "      <th id=\"T_9aa0d_level0_col4\" class=\"col_heading level0 col4\" >Prec.</th>\n",
       "      <th id=\"T_9aa0d_level0_col5\" class=\"col_heading level0 col5\" >F1</th>\n",
       "      <th id=\"T_9aa0d_level0_col6\" class=\"col_heading level0 col6\" >Kappa</th>\n",
       "      <th id=\"T_9aa0d_level0_col7\" class=\"col_heading level0 col7\" >MCC</th>\n",
       "      <th id=\"T_9aa0d_level0_col8\" class=\"col_heading level0 col8\" >TT (Sec)</th>\n",
       "    </tr>\n",
       "  </thead>\n",
       "  <tbody>\n",
       "    <tr>\n",
       "      <th id=\"T_9aa0d_level0_row0\" class=\"row_heading level0 row0\" >2</th>\n",
       "      <td id=\"T_9aa0d_row0_col0\" class=\"data row0 col0\" >MultinomialNB</td>\n",
       "      <td id=\"T_9aa0d_row0_col1\" class=\"data row0 col1\" >0.9734</td>\n",
       "      <td id=\"T_9aa0d_row0_col2\" class=\"data row0 col2\" >0.9940</td>\n",
       "      <td id=\"T_9aa0d_row0_col3\" class=\"data row0 col3\" >0.9545</td>\n",
       "      <td id=\"T_9aa0d_row0_col4\" class=\"data row0 col4\" >0.9534</td>\n",
       "      <td id=\"T_9aa0d_row0_col5\" class=\"data row0 col5\" >0.9540</td>\n",
       "      <td id=\"T_9aa0d_row0_col6\" class=\"data row0 col6\" >0.9353</td>\n",
       "      <td id=\"T_9aa0d_row0_col7\" class=\"data row0 col7\" >0.9353</td>\n",
       "      <td id=\"T_9aa0d_row0_col8\" class=\"data row0 col8\" >9.4567</td>\n",
       "    </tr>\n",
       "    <tr>\n",
       "      <th id=\"T_9aa0d_level0_row1\" class=\"row_heading level0 row1\" >0</th>\n",
       "      <td id=\"T_9aa0d_row1_col0\" class=\"data row1 col0\" >Logistic Regression</td>\n",
       "      <td id=\"T_9aa0d_row1_col1\" class=\"data row1 col1\" >0.9710</td>\n",
       "      <td id=\"T_9aa0d_row1_col2\" class=\"data row1 col2\" >0.9911</td>\n",
       "      <td id=\"T_9aa0d_row1_col3\" class=\"data row1 col3\" >0.9773</td>\n",
       "      <td id=\"T_9aa0d_row1_col4\" class=\"data row1 col4\" >0.9264</td>\n",
       "      <td id=\"T_9aa0d_row1_col5\" class=\"data row1 col5\" >0.9511</td>\n",
       "      <td id=\"T_9aa0d_row1_col6\" class=\"data row1 col6\" >0.9305</td>\n",
       "      <td id=\"T_9aa0d_row1_col7\" class=\"data row1 col7\" >0.9313</td>\n",
       "      <td id=\"T_9aa0d_row1_col8\" class=\"data row1 col8\" >8.5333</td>\n",
       "    </tr>\n",
       "    <tr>\n",
       "      <th id=\"T_9aa0d_level0_row2\" class=\"row_heading level0 row2\" >1</th>\n",
       "      <td id=\"T_9aa0d_row2_col0\" class=\"data row2 col0\" >Random Forest Classifier</td>\n",
       "      <td id=\"T_9aa0d_row2_col1\" class=\"data row2 col1\" >0.9665</td>\n",
       "      <td id=\"T_9aa0d_row2_col2\" class=\"data row2 col2\" >0.9902</td>\n",
       "      <td id=\"T_9aa0d_row2_col3\" class=\"data row2 col3\" >0.9725</td>\n",
       "      <td id=\"T_9aa0d_row2_col4\" class=\"data row2 col4\" >0.9166</td>\n",
       "      <td id=\"T_9aa0d_row2_col5\" class=\"data row2 col5\" >0.9437</td>\n",
       "      <td id=\"T_9aa0d_row2_col6\" class=\"data row2 col6\" >0.9199</td>\n",
       "      <td id=\"T_9aa0d_row2_col7\" class=\"data row2 col7\" >0.9207</td>\n",
       "      <td id=\"T_9aa0d_row2_col8\" class=\"data row2 col8\" >8.1133</td>\n",
       "    </tr>\n",
       "  </tbody>\n",
       "</table>\n"
      ],
      "text/plain": [
       "<pandas.io.formats.style.Styler at 0x28c2f3ac0>"
      ]
     },
     "metadata": {},
     "output_type": "display_data"
    },
    {
     "data": {
      "text/html": [],
      "text/plain": [
       "<IPython.core.display.HTML object>"
      ]
     },
     "metadata": {},
     "output_type": "display_data"
    }
   ],
   "source": [
    "nb = MultinomialNB()\n",
    "select_models = ['lr', 'rf', nb]\n",
    "best = compare_models(include=select_models, sort='AUC')"
   ]
  },
  {
   "cell_type": "code",
   "execution_count": 13,
   "metadata": {},
   "outputs": [
    {
     "data": {
      "text/html": [],
      "text/plain": [
       "<IPython.core.display.HTML object>"
      ]
     },
     "metadata": {},
     "output_type": "display_data"
    },
    {
     "data": {
      "image/png": "[encoded data removed]",
      "text/plain": [
       "<Figure size 800x550 with 1 Axes>"
      ]
     },
     "metadata": {},
     "output_type": "display_data"
    }
   ],
   "source": [
    "plot_model(best, plot = 'confusion_matrix')"
   ]
  },
  {
   "cell_type": "markdown",
   "metadata": {},
   "source": [
    "### Model Registeration\n",
    "Model registration with MLflow."
   ]
  },
  {
   "cell_type": "code",
   "execution_count": 12,
   "metadata": {},
   "outputs": [
    {
     "name": "stderr",
     "output_type": "stream",
     "text": [
      "Registered model 'sk-learn-count-model' already exists. Creating a new version of this model...\n",
      "Created version '3' of model 'sk-learn-count-model'.\n"
     ]
    }
   ],
   "source": [
    "mlflow.sklearn.autolog()\n",
    "\n",
    "# Pull the evaluation results\n",
    "compared_result = pull()\n",
    "\n",
    "with mlflow.start_run():\n",
    "    mlflow.log_param(\"avg_sms_len\", avg_sms_len)\n",
    "    mlflow.log_param(\"Unique_wd_cnt\", Unique_wd_cnt)\n",
    "\n",
    "    artifact_path=\"sklearn-model\"\n",
    "    model_name=\"sk-learn-count-model\"\n",
    "\n",
    "    pipe = pipeline.make_pipeline(vect, best)\n",
    "\n",
    "    signature = infer_signature(X, y)\n",
    "\n",
    "    mlflow.log_metrics(\n",
    "        {\n",
    "            \"accuracy\": compared_result['Accuracy'][0],\n",
    "            \"roc_auc\": compared_result['AUC'][0],\n",
    "            \"f1_score\": compared_result['F1'][0],\n",
    "            \"recall\": compared_result['Recall'][0],\n",
    "            \"precision\": compared_result['Prec.'][0],\n",
    "        }\n",
    "    )\n",
    "\n",
    "    # Save model\n",
    "    pipeline.save_model(\n",
    "        model=pipe,\n",
    "        artifact_path=artifact_path,\n",
    "        signature=signature,\n",
    "        model_name=model_name,\n",
    "    )"
   ]
  },
  {
   "cell_type": "code",
   "execution_count": null,
   "metadata": {},
   "outputs": [],
   "source": []
  }
 ],
 "metadata": {
  "kernelspec": {
   "display_name": "zilo",
   "language": "python",
   "name": "python3"
  },
  "language_info": {
   "codemirror_mode": {
    "name": "ipython",
    "version": 3
   },
   "file_extension": ".py",
   "mimetype": "text/x-python",
   "name": "python",
   "nbconvert_exporter": "python",
   "pygments_lexer": "ipython3",
   "version": "3.8.18"
  }
 },
 "nbformat": 4,
 "nbformat_minor": 2
}
